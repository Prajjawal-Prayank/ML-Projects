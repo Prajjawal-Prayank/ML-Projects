{
  "nbformat": 4,
  "nbformat_minor": 0,
  "metadata": {
    "colab": {
      "name": "Copy of Copy of char_recognition_cnn.ipynb",
      "provenance": [],
      "collapsed_sections": [],
      "authorship_tag": "ABX9TyMkH+ZzU5jumEiPXJxcGLjO",
      "include_colab_link": true
    },
    "kernelspec": {
      "name": "python3",
      "display_name": "Python 3"
    },
    "accelerator": "GPU"
  },
  "cells": [
    {
      "cell_type": "markdown",
      "metadata": {
        "id": "view-in-github",
        "colab_type": "text"
      },
      "source": [
        "<a href=\"https://colab.research.google.com/github/Prajjawal-Prayank/ML-Projects/blob/master/character_recognition_cnn_final.ipynb\" target=\"_parent\"><img src=\"https://colab.research.google.com/assets/colab-badge.svg\" alt=\"Open In Colab\"/></a>"
      ]
    },
    {
      "cell_type": "code",
      "metadata": {
        "id": "Yzfy6lqOIDYq",
        "colab_type": "code",
        "colab": {
          "base_uri": "https://localhost:8080/",
          "height": 51
        },
        "outputId": "16207802-7ef7-4313-ebdb-76101d6de876"
      },
      "source": [
        "%tensorflow_version 1.x\n",
        "import tensorflow as tf\n",
        "import time\n",
        "import matplotlib.pyplot as plt\n",
        "%matplotlib inline\n",
        "print(tf.__version__)"
      ],
      "execution_count": null,
      "outputs": [
        {
          "output_type": "stream",
          "text": [
            "TensorFlow 1.x selected.\n",
            "1.15.2\n"
          ],
          "name": "stdout"
        }
      ]
    },
    {
      "cell_type": "code",
      "metadata": {
        "id": "b-YSae0qjCeC",
        "colab_type": "code",
        "colab": {}
      },
      "source": [
        "import numpy as np"
      ],
      "execution_count": null,
      "outputs": []
    },
    {
      "cell_type": "code",
      "metadata": {
        "id": "XaT18m5UPL5v",
        "colab_type": "code",
        "colab": {
          "base_uri": "https://localhost:8080/",
          "height": 122
        },
        "outputId": "b637f3c9-6e10-4566-b373-62f903ae7371"
      },
      "source": [
        "#mounting google drive on google colab\n",
        "from google.colab import drive\n",
        "drive.mount('/content/gdrive')"
      ],
      "execution_count": null,
      "outputs": [
        {
          "output_type": "stream",
          "text": [
            "Go to this URL in a browser: https://accounts.google.com/o/oauth2/auth?client_id=947318989803-6bn6qk8qdgf4n4g3pfee6491hc0brc4i.apps.googleusercontent.com&redirect_uri=urn%3aietf%3awg%3aoauth%3a2.0%3aoob&response_type=code&scope=email%20https%3a%2f%2fwww.googleapis.com%2fauth%2fdocs.test%20https%3a%2f%2fwww.googleapis.com%2fauth%2fdrive%20https%3a%2f%2fwww.googleapis.com%2fauth%2fdrive.photos.readonly%20https%3a%2f%2fwww.googleapis.com%2fauth%2fpeopleapi.readonly\n",
            "\n",
            "Enter your authorization code:\n",
            "··········\n",
            "Mounted at /content/gdrive\n"
          ],
          "name": "stdout"
        }
      ]
    },
    {
      "cell_type": "code",
      "metadata": {
        "id": "kG-U3FEVlpP0",
        "colab_type": "code",
        "colab": {
          "base_uri": "https://localhost:8080/",
          "height": 34
        },
        "outputId": "54489318-8347-4680-a4b4-58d88d552e3e"
      },
      "source": [
        "cd /content/gdrive/My Drive/"
      ],
      "execution_count": null,
      "outputs": [
        {
          "output_type": "stream",
          "text": [
            "/content/gdrive/My Drive\n"
          ],
          "name": "stdout"
        }
      ]
    },
    {
      "cell_type": "markdown",
      "metadata": {
        "id": "ceWuZfmMiKTt",
        "colab_type": "text"
      },
      "source": [
        "The EMNIST Python Package provides functionality to automatically download the dataset, and to load it as numpy arrays."
      ]
    },
    {
      "cell_type": "code",
      "metadata": {
        "id": "Yj-h_iwmDGsS",
        "colab_type": "code",
        "colab": {
          "base_uri": "https://localhost:8080/",
          "height": 204
        },
        "outputId": "e5490295-65f5-4ac1-888c-bebe91d4567b"
      },
      "source": [
        "pip install emnist"
      ],
      "execution_count": null,
      "outputs": [
        {
          "output_type": "stream",
          "text": [
            "Collecting emnist\n",
            "  Downloading https://files.pythonhosted.org/packages/d1/f4/78b24acbef9e8fe976dda700f16a3606f3b8363b015bc555f8050fbbd8ac/emnist-0.0-py3-none-any.whl\n",
            "Requirement already satisfied: tqdm in /usr/local/lib/python3.6/dist-packages (from emnist) (4.41.1)\n",
            "Requirement already satisfied: requests in /usr/local/lib/python3.6/dist-packages (from emnist) (2.23.0)\n",
            "Requirement already satisfied: numpy in /usr/local/lib/python3.6/dist-packages (from emnist) (1.18.5)\n",
            "Requirement already satisfied: certifi>=2017.4.17 in /usr/local/lib/python3.6/dist-packages (from requests->emnist) (2020.6.20)\n",
            "Requirement already satisfied: idna<3,>=2.5 in /usr/local/lib/python3.6/dist-packages (from requests->emnist) (2.9)\n",
            "Requirement already satisfied: chardet<4,>=3.0.2 in /usr/local/lib/python3.6/dist-packages (from requests->emnist) (3.0.4)\n",
            "Requirement already satisfied: urllib3!=1.25.0,!=1.25.1,<1.26,>=1.21.1 in /usr/local/lib/python3.6/dist-packages (from requests->emnist) (1.24.3)\n",
            "Installing collected packages: emnist\n",
            "Successfully installed emnist-0.0\n"
          ],
          "name": "stdout"
        }
      ]
    },
    {
      "cell_type": "code",
      "metadata": {
        "id": "1ri8GQavEacZ",
        "colab_type": "code",
        "colab": {
          "base_uri": "https://localhost:8080/",
          "height": 34
        },
        "outputId": "a3897747-be7f-4893-a7cc-fa489772acfe"
      },
      "source": [
        "from emnist import extract_training_samples\n",
        "(training_images,training_labels) = extract_training_samples('balanced')"
      ],
      "execution_count": null,
      "outputs": [
        {
          "output_type": "stream",
          "text": [
            "Downloading emnist.zip: 536MB [00:03, 158MB/s]\n"
          ],
          "name": "stderr"
        }
      ]
    },
    {
      "cell_type": "code",
      "metadata": {
        "id": "Ma10GZKIE1Ub",
        "colab_type": "code",
        "colab": {}
      },
      "source": [
        "from emnist import extract_test_samples\n",
        "testing_images,testing_labels = extract_test_samples('balanced')"
      ],
      "execution_count": null,
      "outputs": []
    },
    {
      "cell_type": "code",
      "metadata": {
        "id": "nW4T4vfJGgHE",
        "colab_type": "code",
        "colab": {}
      },
      "source": [
        "training_images_np=training_images.reshape(-1,28*28)       #converting 2d image into single dimension for calculation  \n",
        "testing_images_np=testing_images.reshape(-1,28*28)\n",
        "training_labels_one  = training_labels.reshape(-1,1)       #ensures each row has only one column\n",
        "testing_labels_one = testing_labels.reshape(-1,1)"
      ],
      "execution_count": null,
      "outputs": []
    },
    {
      "cell_type": "code",
      "metadata": {
        "id": "qTSXlTmGN5fC",
        "colab_type": "code",
        "colab": {}
      },
      "source": [
        ""
      ],
      "execution_count": null,
      "outputs": []
    },
    {
      "cell_type": "code",
      "metadata": {
        "id": "yRYugwtBF6XM",
        "colab_type": "code",
        "colab": {}
      },
      "source": [
        ""
      ],
      "execution_count": null,
      "outputs": []
    },
    {
      "cell_type": "code",
      "metadata": {
        "id": "OkSKtHGy6vjv",
        "colab_type": "code",
        "colab": {}
      },
      "source": [
        "#For the ease of calculation , we keep the data values (here, value of each pixel) between certain limits (here, zero and one)"
      ],
      "execution_count": null,
      "outputs": []
    },
    {
      "cell_type": "code",
      "metadata": {
        "id": "UGmknv2k6793",
        "colab_type": "code",
        "colab": {}
      },
      "source": [
        "from sklearn.preprocessing import MinMaxScaler\n",
        "scaler_model = MinMaxScaler()                                          #this makes scaler_model (a variable) an instance of  MinMaxScaler\n",
        "scaler_model.fit(training_images_np)                                   #this fits the data in the model\n",
        "train_images = scaler_model.transform(training_images_np)              #finally this converts the data between the given range.By default, 0 to 1"
      ],
      "execution_count": null,
      "outputs": []
    },
    {
      "cell_type": "code",
      "metadata": {
        "id": "dCHvOPSQ7Af6",
        "colab_type": "code",
        "colab": {}
      },
      "source": [
        "scaler_model.fit(testing_images_np)\n",
        "test_images = scaler_model.transform(testing_images_np)"
      ],
      "execution_count": null,
      "outputs": []
    },
    {
      "cell_type": "code",
      "metadata": {
        "id": "Uh8iuAX77BH6",
        "colab_type": "code",
        "colab": {
          "base_uri": "https://localhost:8080/",
          "height": 34
        },
        "outputId": "48f10344-436f-40f7-b943-159971a74b77"
      },
      "source": [
        "train_images.shape[0]"
      ],
      "execution_count": null,
      "outputs": [
        {
          "output_type": "execute_result",
          "data": {
            "text/plain": [
              "112800"
            ]
          },
          "metadata": {
            "tags": []
          },
          "execution_count": 12
        }
      ]
    },
    {
      "cell_type": "code",
      "metadata": {
        "id": "Zz6I4kMw7Bt8",
        "colab_type": "code",
        "colab": {}
      },
      "source": [
        "#Applying one hot encoding on the labels"
      ],
      "execution_count": null,
      "outputs": []
    },
    {
      "cell_type": "code",
      "metadata": {
        "id": "4W_T15oUwaNL",
        "colab_type": "code",
        "colab": {}
      },
      "source": [
        "from sklearn.preprocessing import OneHotEncoder\n",
        "encoding_model = OneHotEncoder()\n",
        "\n",
        "encoding_model.fit(training_labels_one)\n",
        "train_labels = encoding_model.transform(training_labels_one).toarray()  \n",
        "#transform() return data type \"scipy.sparse.csr.csr_matrix\" . However, we need to keep our dataset of type \"numpy.ndarray\"\n",
        "#So, we use .toarray() on the transformed dataset\n",
        "\n",
        "encoding_model.fit(testing_labels_one)\n",
        "test_labels = encoding_model.transform(testing_labels_one).toarray()"
      ],
      "execution_count": null,
      "outputs": []
    },
    {
      "cell_type": "code",
      "metadata": {
        "id": "1scNurg0xRea",
        "colab_type": "code",
        "colab": {}
      },
      "source": [
        "#naming the labels\n",
        "emnist_mapping ={0:0,1:1,2:2,3:3,4:4,5:5,6:6,7:7,8:8,9:9,10:'A',11:'B',12:'C',13:'D',14:'E',\n",
        "              15:'F',16:'G',17:'H',18:'I',19:'J',20:'K',21:'l',22:'M',23:'N',24:'O',25:'P',\n",
        "              26:'Q',27:'R',28:'S',29:'T',30:'u',31:'V',32:'W',33:'X',34:'Y',35:'Z',36:'a',\n",
        "              37:'b',38:'d',39:'e',40:'f',41:'g',42:'h',43:'n',44:'q',45:'r',46:'t'}\n",
        "\n",
        "#this mapping is according to \"emnist-balanced\" dataset.\n",
        "# the following characters are left out due to similarity in their upper case and lower case representations (or similarity with other characters)\n",
        "# L, U, c,i,j,k,m,o,p,s,v,w,x,y,z  (total 15)\n",
        "#so, characters [a-z] , [A-Z], [0-9] are total 26+26+10=62\n",
        "#15 are not used. So, remaining no. of labels =62-15=47"
      ],
      "execution_count": null,
      "outputs": []
    },
    {
      "cell_type": "code",
      "metadata": {
        "id": "apQ_ZCWRWTYw",
        "colab_type": "code",
        "colab": {}
      },
      "source": [
        ""
      ],
      "execution_count": null,
      "outputs": []
    },
    {
      "cell_type": "code",
      "metadata": {
        "id": "4m8aHjL2xuxL",
        "colab_type": "code",
        "colab": {}
      },
      "source": [
        "\n",
        "\n"
      ],
      "execution_count": null,
      "outputs": []
    },
    {
      "cell_type": "code",
      "metadata": {
        "id": "0ylS6QcVxwCB",
        "colab_type": "code",
        "colab": {}
      },
      "source": [
        "# convolutional layer\n",
        "def convolutional_layer(input_x,shape):\n",
        "    t=tf.truncated_normal(shape,stddev=0.1)\n",
        "    \"\"\" \n",
        "    tf.truncated_normal() :-\n",
        "    Outputs random values from a truncated normal distribution.\n",
        "    The generated values follow a normal distribution with specified mean and standard deviation, \n",
        "    except that values whose magnitude is more than 2 standard deviations from the mean are dropped \n",
        "    and re-picked.\n",
        "    Normal distribution, also known as the Gaussian distribution, is a probability distribution that is \n",
        "    symmetric about the mean, showing that data near the mean are more frequent in occurrence than data far \n",
        "    from the mean. In graph form, normal distribution will appear as a bell curve.\n",
        "    \"\"\"\n",
        "    w=tf.Variable(t)        #A tf.Variable represents a tensor whose value can be changed by running ops on it.\n",
        "    b=tf.Variable(tf.constant(0.1,shape=[shape[3]]) )               # all values are 0.1 and the shape is that of the input tensor\n",
        "    return tf.nn.relu(tf.nn.conv2d(input_x,w,strides=[1,1,1,1],padding='SAME') +b)\n",
        "    # input_x is the input tensor.A 4d tensor. its shape:- [batch,height,width,channel]  (channel is 1 for grayscale and 3 for rgb)\n",
        "    # batch basically tells which all images are being taken as i/p/. height and weight are of individual images. \n",
        "    # w is the kernel(or the filter).its shape:- [filter height,filter width,no. of channels as i/p, no. of channels as o/p ]"
      ],
      "execution_count": null,
      "outputs": []
    },
    {
      "cell_type": "code",
      "metadata": {
        "id": "lQLQ_YmLxyLW",
        "colab_type": "code",
        "colab": {}
      },
      "source": [
        "# normal (or, fully connected) layer\n",
        "def normal_full_layer(input_layer,size):\n",
        "    input_size=int(input_layer.get_shape()[1])  #it is for matrix dimension. so make sure the 2 matrices multiplied are of the form (m*n) & (n*p)\n",
        "    w=tf.Variable(tf.truncated_normal([input_size,size],stddev=0.1))\n",
        "    b=tf.Variable(tf.constant(0.1,shape=[size]))\n",
        "    return tf.matmul(input_layer,w)+b"
      ],
      "execution_count": null,
      "outputs": []
    },
    {
      "cell_type": "code",
      "metadata": {
        "id": "6JpPG0wjxzkY",
        "colab_type": "code",
        "colab": {}
      },
      "source": [
        "\n",
        "\n"
      ],
      "execution_count": null,
      "outputs": []
    },
    {
      "cell_type": "code",
      "metadata": {
        "id": "OaslO9hYx1Qn",
        "colab_type": "code",
        "colab": {}
      },
      "source": [
        "# placeholder\n",
        "x=tf.placeholder(tf.float32,shape=[None,784])           #input image is of dimension 28*28=784\n",
        "y_true=tf.placeholder(tf.float32,shape=[None,47])       #there are a total of 47 classes/labels/characters"
      ],
      "execution_count": null,
      "outputs": []
    },
    {
      "cell_type": "code",
      "metadata": {
        "id": "z-X8ioVPx1_B",
        "colab_type": "code",
        "colab": {}
      },
      "source": [
        ""
      ],
      "execution_count": null,
      "outputs": []
    },
    {
      "cell_type": "code",
      "metadata": {
        "id": "RH8HmNiJyLuV",
        "colab_type": "code",
        "colab": {}
      },
      "source": [
        "# layers\n",
        "x_image= tf.reshape(x,[-1,28,28,1])   # converting the i/p img back to layers. The 28*28 is h*w. 1 is coz of grayscale."
      ],
      "execution_count": null,
      "outputs": []
    },
    {
      "cell_type": "code",
      "metadata": {
        "id": "buW-rMWdx3Ze",
        "colab_type": "code",
        "colab": {}
      },
      "source": [
        "# first convolutional layer\n",
        "convo_1=convolutional_layer(x_image,shape=[5,5,1,32]) # the wt. tensor is [5,5,1,32]\n",
        "                                                      # 5 by 5 convolutional layer. so, this convolution will compute\n",
        "                                                      # 32 features for each 5 by 5 patch. 1 is the i/p channels.32 is the no.\n",
        "                                                      # of o/p channels.\n",
        "                                                      #so, 32 images(features) will be generated as the result of this \n",
        "                                                      #beacuse we basically use 32 filters of 5*5 dimension each"
      ],
      "execution_count": null,
      "outputs": []
    },
    {
      "cell_type": "code",
      "metadata": {
        "id": "pdFogeY4x5IR",
        "colab_type": "code",
        "colab": {}
      },
      "source": [
        "# first pooling layer\n",
        "convo_1_pooling = tf.nn.max_pool(convo_1,ksize=[1,2,2,1],strides=[1,2,2,1],padding=\"SAME\")\n",
        "# convo_1 is the input tensor. its shape:- [batch,height,width,channel] \n",
        "# pooling is done only along height and width. so, it is basically 2*2 pooling\n",
        "# ksize specifies the size of the window for each dimension of input tensor\n",
        "# stride specifies the stride of the sliding window for each dimension of input tensor"
      ],
      "execution_count": null,
      "outputs": []
    },
    {
      "cell_type": "code",
      "metadata": {
        "id": "KetjbjC2QDrt",
        "colab_type": "code",
        "colab": {}
      },
      "source": [
        "# second convolutional and pooling layer\n",
        "convo_2=convolutional_layer(convo_1_pooling,shape=[3,3,32,64])\n",
        "convo_2_pooling = tf.nn.max_pool(convo_2,ksize=[1,2,2,1],strides=[1,2,2,1],padding=\"SAME\")"
      ],
      "execution_count": null,
      "outputs": []
    },
    {
      "cell_type": "code",
      "metadata": {
        "id": "Bibd8sxeP6_P",
        "colab_type": "code",
        "colab": {}
      },
      "source": [
        "# third convolutional layer\n",
        "convo_3=convolutional_layer(convo_2_pooling,shape=[7,7,64,128])"
      ],
      "execution_count": null,
      "outputs": []
    },
    {
      "cell_type": "code",
      "metadata": {
        "id": "IiI3l3GWyRDt",
        "colab_type": "code",
        "colab": {}
      },
      "source": [
        "# fourth convolutional layer\n",
        "convo_4 = convolutional_layer(convo_3,shape=[5,5,128,256])    # 256 features"
      ],
      "execution_count": null,
      "outputs": []
    },
    {
      "cell_type": "code",
      "metadata": {
        "id": "HOImGl3hvYkW",
        "colab_type": "code",
        "colab": {}
      },
      "source": [
        ""
      ],
      "execution_count": null,
      "outputs": []
    },
    {
      "cell_type": "code",
      "metadata": {
        "id": "Fh3ww5nBySv-",
        "colab_type": "code",
        "colab": {}
      },
      "source": [
        "#this o/p is now flattened out so that it gets connected to a fully connected layer\n",
        "convo_4_flat= tf.reshape(convo_4,[-1,7*7*256])\n",
        "#we get 256 images(features) of 7*7 dimension\n",
        "#here 7*7 is dimension of each image. here's how:-\n",
        "#28*28 on pooling with 2*2 gives 14*14\n",
        "#14*14 on pooling with 2*2 gives 7*7\n",
        "#NOTE:- the dimension of the image didn't change on convolution as \"SAME\" type of convolution is used.Meaning to say that the padding is such that the final\n",
        "#       o/p dimension remains the same.here, padding=(f-1)/2=(5-1)/2=2 . so after padding , 28*28 becomes 32*32. and on convolution gives 28*28 \n",
        "#       (as, n-f+1=32-5+1=28  )\n",
        "full_layer_one=tf.nn.relu(normal_full_layer(convo_4_flat,2000)) #2000 nodes/neurons taken in first fully connected layer"
      ],
      "execution_count": null,
      "outputs": []
    },
    {
      "cell_type": "code",
      "metadata": {
        "id": "h1rKhykRNwX0",
        "colab_type": "code",
        "colab": {
          "base_uri": "https://localhost:8080/",
          "height": 88
        },
        "outputId": "a8917b83-91dd-4134-e8be-fb2a6645f433"
      },
      "source": [
        "# dropout\n",
        "hold_prob= tf.placeholder(tf.float32)\n",
        "full_one_dropout= tf.nn.dropout(full_layer_one,keep_prob=hold_prob) #nodes in fully connected layer are held for better results"
      ],
      "execution_count": null,
      "outputs": [
        {
          "output_type": "stream",
          "text": [
            "WARNING:tensorflow:From <ipython-input-23-aa2771a72171>:3: calling dropout (from tensorflow.python.ops.nn_ops) with keep_prob is deprecated and will be removed in a future version.\n",
            "Instructions for updating:\n",
            "Please use `rate` instead of `keep_prob`. Rate should be set to `rate = 1 - keep_prob`.\n"
          ],
          "name": "stdout"
        }
      ]
    },
    {
      "cell_type": "code",
      "metadata": {
        "id": "wlrmpzuMu0as",
        "colab_type": "code",
        "colab": {}
      },
      "source": [
        "full_layer_two=tf.nn.relu(normal_full_layer(full_one_dropout,1000))   #1000 nodes/neurons taken in first fully connected layer"
      ],
      "execution_count": null,
      "outputs": []
    },
    {
      "cell_type": "code",
      "metadata": {
        "id": "zuKuysJ6u6Es",
        "colab_type": "code",
        "colab": {}
      },
      "source": [
        ""
      ],
      "execution_count": null,
      "outputs": []
    },
    {
      "cell_type": "code",
      "metadata": {
        "id": "XVM5nu8lyU-e",
        "colab_type": "code",
        "colab": {}
      },
      "source": [
        "# dropout\n",
        "full_two_dropout= tf.nn.dropout(full_layer_two,keep_prob=hold_prob) #nodes in fully connected layer are held for better results"
      ],
      "execution_count": null,
      "outputs": []
    },
    {
      "cell_type": "markdown",
      "metadata": {
        "id": "29lMPj8BILRc",
        "colab_type": "text"
      },
      "source": [
        "For future use:-\n",
        "WARNING:tensorflow:From <ipython-input-28-c7d08bb7c69d>:3: calling dropout (from tensorflow.python.ops.nn_ops) with keep_prob is deprecated and will be removed in a future version.\n",
        "Instructions for updating:\n",
        "Please use `rate` instead of `keep_prob`. Rate should be set to `rate = 1 - keep_prob`."
      ]
    },
    {
      "cell_type": "code",
      "metadata": {
        "id": "CjBtgpxxyXnW",
        "colab_type": "code",
        "colab": {}
      },
      "source": [
        "\n",
        "\n"
      ],
      "execution_count": null,
      "outputs": []
    },
    {
      "cell_type": "code",
      "metadata": {
        "id": "BYT-trNDyaRA",
        "colab_type": "code",
        "colab": {}
      },
      "source": [
        "y_pred= normal_full_layer(full_two_dropout,47)    # 47 is the no. of labels (so, the last layer has 47 nodes)"
      ],
      "execution_count": null,
      "outputs": []
    },
    {
      "cell_type": "code",
      "metadata": {
        "id": "Cyf7W1AVzp7o",
        "colab_type": "code",
        "colab": {}
      },
      "source": [
        "\n"
      ],
      "execution_count": null,
      "outputs": []
    },
    {
      "cell_type": "code",
      "metadata": {
        "id": "kYMPNDZPzt0b",
        "colab_type": "code",
        "colab": {
          "base_uri": "https://localhost:8080/",
          "height": 173
        },
        "outputId": "71dd3741-6d92-4e1e-c792-820ccd307a28"
      },
      "source": [
        "# loss function\n",
        "cross_entropy = tf.reduce_mean(tf.nn.softmax_cross_entropy_with_logits(labels=y_true,logits=y_pred))"
      ],
      "execution_count": null,
      "outputs": [
        {
          "output_type": "stream",
          "text": [
            "WARNING:tensorflow:From <ipython-input-27-6fcd616eba1b>:2: softmax_cross_entropy_with_logits (from tensorflow.python.ops.nn_ops) is deprecated and will be removed in a future version.\n",
            "Instructions for updating:\n",
            "\n",
            "Future major versions of TensorFlow will allow gradients to flow\n",
            "into the labels input on backprop by default.\n",
            "\n",
            "See `tf.nn.softmax_cross_entropy_with_logits_v2`.\n",
            "\n"
          ],
          "name": "stdout"
        }
      ]
    },
    {
      "cell_type": "markdown",
      "metadata": {
        "id": "LrLGkUFtKJcI",
        "colab_type": "text"
      },
      "source": [
        "For future use:-\n",
        "WARNING:tensorflow:From <ipython-input-30-6fcd616eba1b>:2: softmax_cross_entropy_with_logits (from tensorflow.python.ops.nn_ops) is deprecated and will be removed in a future version.\n",
        "Instructions for updating:\n",
        "\n",
        "Future major versions of TensorFlow will allow gradients to flow\n",
        "into the labels input on backprop by default.\n",
        "\n",
        "See `tf.nn.softmax_cross_entropy_with_logits_v2`."
      ]
    },
    {
      "cell_type": "code",
      "metadata": {
        "id": "0B6YvLmYzuih",
        "colab_type": "code",
        "colab": {}
      },
      "source": [
        "# optimizer\n",
        "optimizer = tf.train.AdamOptimizer(learning_rate=0.0005)\n",
        "trainer =  optimizer.minimize(cross_entropy)"
      ],
      "execution_count": null,
      "outputs": []
    },
    {
      "cell_type": "code",
      "metadata": {
        "id": "UUFuGXG0zw1I",
        "colab_type": "code",
        "colab": {}
      },
      "source": [
        "init= tf.global_variables_initializer()"
      ],
      "execution_count": null,
      "outputs": []
    },
    {
      "cell_type": "code",
      "metadata": {
        "id": "wPePx_C9zyn1",
        "colab_type": "code",
        "colab": {}
      },
      "source": [
        "model_saver = tf.train.Saver()  #used for saving the model"
      ],
      "execution_count": null,
      "outputs": []
    },
    {
      "cell_type": "code",
      "metadata": {
        "id": "3PbsTJvAF7zG",
        "colab_type": "code",
        "colab": {}
      },
      "source": [
        ""
      ],
      "execution_count": null,
      "outputs": []
    },
    {
      "cell_type": "code",
      "metadata": {
        "id": "Nfh46T7pF9i-",
        "colab_type": "code",
        "colab": {}
      },
      "source": [
        "#for data augmentation\n",
        "from scipy.ndimage.interpolation import shift\n",
        "def shift_image(image, dx, dy):\n",
        "    image = image.reshape((28, 28))\n",
        "    shifted_image = shift(image, [dy, dx], cval=0, mode=\"constant\")\n",
        "    return shifted_image.reshape([-1])"
      ],
      "execution_count": null,
      "outputs": []
    },
    {
      "cell_type": "code",
      "metadata": {
        "id": "s1P1iP6bF9JH",
        "colab_type": "code",
        "colab": {
          "base_uri": "https://localhost:8080/",
          "height": 1000
        },
        "outputId": "399bb5fa-6d0c-4d42-e7f1-a35121ccc3bd"
      },
      "source": [
        "start = time.time()\n",
        "epochs=20\n",
        "with tf.Session() as sess:\n",
        "    sess.run(init)\n",
        "    \n",
        "    for i in range(epochs):\n",
        "      for j in range(0,train_images.shape[0],20):    #taking 20 images from dataset at a time\n",
        "        index_arr=np.arange(j,j+20)\n",
        "        batch_x= train_images[index_arr]\n",
        "        batch_y=train_labels[index_arr]\n",
        "\n",
        "      \n",
        "        #data augmentation\n",
        "        for dx, dy in ((2,0), (-2,0), (0,2), (0,-2)):\n",
        "          for image, label in zip(batch_x, batch_y):\n",
        "            np.append(batch_x,shift_image(image, dx, dy))\n",
        "            np.append(batch_y,label)\n",
        "          \n",
        "        \n",
        "\n",
        "        sess.run(trainer,feed_dict={x:batch_x,y_true:batch_y,hold_prob:0.6})   \n",
        "                                    # hold_prob:0.5 implies every neuron has a 50% hold probablity\n",
        "    \n",
        "      print(\"on epoch\"+str(i+1))\n",
        "      print(\"Accuracy:  \")\n",
        "      found_matches=tf.equal(tf.argmax(y_pred,1),tf.argmax(y_true,1))\n",
        "      #argmax(input, axis=None, name=None, dimension=None) Returns the index with the largest value across axis of a tensor\n",
        "      \n",
        "      accuracy=tf.reduce_mean(tf.cast(found_matches,tf.float32))\n",
        "      print(sess.run(accuracy,feed_dict={x:test_images,y_true:test_labels,hold_prob:1.0}))\n",
        "      # during testing we don't want to dropout any of the neurons. So, we write hold_prob:1.0 , meaning that every neuron will be held at its \n",
        "      # position and none will be dropped out\n",
        "      print(\"\\n\")\n",
        "\n",
        "      model_saver.save(sess,'my_models/model_char_recog.ckpt')\n",
        "end = time.time()"
      ],
      "execution_count": null,
      "outputs": [
        {
          "output_type": "stream",
          "text": [
            "on epoch1\n",
            "Accuracy:  \n",
            "0.8195745\n",
            "\n",
            "\n",
            "on epoch2\n",
            "Accuracy:  \n",
            "0.8498404\n",
            "\n",
            "\n",
            "on epoch3\n",
            "Accuracy:  \n",
            "0.8664362\n",
            "\n",
            "\n",
            "on epoch4\n",
            "Accuracy:  \n",
            "0.8656383\n",
            "\n",
            "\n",
            "on epoch5\n",
            "Accuracy:  \n",
            "0.86962765\n",
            "\n",
            "\n",
            "on epoch6\n",
            "Accuracy:  \n",
            "0.87579787\n",
            "\n",
            "\n",
            "on epoch7\n",
            "Accuracy:  \n",
            "0.8736702\n",
            "\n",
            "\n",
            "on epoch8\n",
            "Accuracy:  \n",
            "0.8762234\n",
            "\n",
            "\n",
            "on epoch9\n",
            "Accuracy:  \n",
            "0.8780319\n",
            "\n",
            "\n",
            "on epoch10\n",
            "Accuracy:  \n",
            "0.8679255\n",
            "\n",
            "\n",
            "on epoch11\n",
            "Accuracy:  \n",
            "0.87409574\n",
            "\n",
            "\n",
            "on epoch12\n",
            "Accuracy:  \n",
            "0.8745745\n",
            "\n",
            "\n",
            "on epoch13\n",
            "Accuracy:  \n",
            "0.8784574\n",
            "\n",
            "\n",
            "on epoch14\n",
            "Accuracy:  \n",
            "0.8793085\n",
            "\n",
            "\n",
            "on epoch15\n",
            "Accuracy:  \n",
            "0.8713298\n",
            "\n",
            "\n",
            "on epoch16\n",
            "Accuracy:  \n",
            "0.87590426\n",
            "\n",
            "\n",
            "on epoch17\n",
            "Accuracy:  \n",
            "0.87255317\n",
            "\n",
            "\n",
            "on epoch18\n",
            "Accuracy:  \n",
            "0.8722872\n",
            "\n",
            "\n",
            "on epoch19\n",
            "Accuracy:  \n",
            "0.87787235\n",
            "\n",
            "\n",
            "on epoch20\n",
            "Accuracy:  \n",
            "0.876383\n",
            "\n",
            "\n"
          ],
          "name": "stdout"
        }
      ]
    },
    {
      "cell_type": "code",
      "metadata": {
        "id": "P074h2ATc8AC",
        "colab_type": "code",
        "colab": {}
      },
      "source": [
        ""
      ],
      "execution_count": null,
      "outputs": []
    },
    {
      "cell_type": "code",
      "metadata": {
        "id": "JG6KovDUCs_N",
        "colab_type": "code",
        "colab": {}
      },
      "source": [
        "# predicting on single examples"
      ],
      "execution_count": null,
      "outputs": []
    },
    {
      "cell_type": "code",
      "metadata": {
        "id": "VSqP2kPsTncQ",
        "colab_type": "code",
        "colab": {}
      },
      "source": [
        "def char_predictor(image):\n",
        "  with tf.Session() as sess:\n",
        "    sess.run(init)\n",
        "    model_saver.restore(sess, \"my_models/model_char_recog.ckpt\")\n",
        "             \n",
        "    prediction=tf.argmax(y_pred,1)\n",
        "    var = prediction.eval(feed_dict={x: [image],y_true:train_labels,hold_prob: 1.0}, session=sess)\n",
        "    print(\"The predicted character is :- \" + str(emnist_mapping[var[0]]))"
      ],
      "execution_count": null,
      "outputs": []
    },
    {
      "cell_type": "code",
      "metadata": {
        "id": "CvM1D2x3k6Sz",
        "colab_type": "code",
        "colab": {
          "base_uri": "https://localhost:8080/",
          "height": 282
        },
        "outputId": "915e1a11-09fa-4569-a25b-1d4843d183fb"
      },
      "source": [
        "#first example\n",
        "image_index = 444\n",
        "single_image = train_images[image_index].reshape(28,28) \n",
        "plt.imshow(single_image,cmap='gist_gray') "
      ],
      "execution_count": null,
      "outputs": [
        {
          "output_type": "execute_result",
          "data": {
            "text/plain": [
              "<matplotlib.image.AxesImage at 0x7f9c77c2cac8>"
            ]
          },
          "metadata": {
            "tags": []
          },
          "execution_count": 49
        },
        {
          "output_type": "display_data",
          "data": {
            "image/png": "[encoded data removed]",
            "text/plain": [
              "<Figure size 432x288 with 1 Axes>"
            ]
          },
          "metadata": {
            "tags": [],
            "needs_background": "light"
          }
        }
      ]
    },
    {
      "cell_type": "code",
      "metadata": {
        "id": "HbLLmpdRxv-R",
        "colab_type": "code",
        "colab": {
          "base_uri": "https://localhost:8080/",
          "height": 51
        },
        "outputId": "3cc17e3a-7800-44e9-8f1b-5b399d6af1d9"
      },
      "source": [
        "char_predictor(train_images[image_index])"
      ],
      "execution_count": null,
      "outputs": [
        {
          "output_type": "stream",
          "text": [
            "INFO:tensorflow:Restoring parameters from my_models/model_char_recog.ckpt\n",
            "The predicted character is :- E\n"
          ],
          "name": "stdout"
        }
      ]
    },
    {
      "cell_type": "code",
      "metadata": {
        "id": "bkuJsfXsTVbc",
        "colab_type": "code",
        "colab": {}
      },
      "source": [
        ""
      ],
      "execution_count": null,
      "outputs": []
    },
    {
      "cell_type": "code",
      "metadata": {
        "id": "xxLmwHHmdeNR",
        "colab_type": "code",
        "colab": {}
      },
      "source": [
        "# predicting on images given by user"
      ],
      "execution_count": null,
      "outputs": []
    },
    {
      "cell_type": "code",
      "metadata": {
        "id": "LeDNFSE7tim8",
        "colab_type": "code",
        "colab": {}
      },
      "source": [
        "#function to convert user image into image suitable for the dataset"
      ],
      "execution_count": null,
      "outputs": []
    },
    {
      "cell_type": "code",
      "metadata": {
        "id": "CCNr038Tt0i3",
        "colab_type": "code",
        "colab": {}
      },
      "source": [
        "from PIL import Image, ImageFilter\n",
        "\n",
        "\n",
        "def imageprepare(argv):\n",
        "    \"\"\"\n",
        "    This function returns the pixel values.\n",
        "    The imput is a image file location.\n",
        "    \"\"\"\n",
        "    try:\n",
        "      my_image = Image.open(argv).convert('L')    #.convert() Returns a converted copy of this image. Mode L means 8-bit pixels, black and white\n",
        "    except:\n",
        "      print(\"Sorry! No such file found. Please enter full path of file along with extension\")\n",
        "      return  \n",
        "        \n",
        "    width, height = my_image.size\n",
        "    new_image = Image.new('L', (28, 28), (255))  # creates white canvas of 28x28 pixels . \n",
        "    \n",
        "\n",
        "    if width > height:  \n",
        "        #occupy all the width and change the height according to height-width ratio\n",
        "        new_height = int(round(((28.0 / width )* height),0)) \n",
        "        if (new_height == 0):  # keeping minimum  1 pixel\n",
        "            new_height = 1\n",
        "\n",
        "        # resize and sharpen\n",
        "        #Image sharpening refers to any enhancement technique that highlights edges and fine details in an image.\n",
        "        image = my_image.resize((28, new_height), Image.ANTIALIAS).filter(ImageFilter.SHARPEN)\n",
        "        #anti-aliasing. : a procedure used in digital graphics processing for smoothing lines and removing visual distortions.\n",
        "        #The class ImageFilter.SHARPEN implements a spatial filter using convolution to sharpen a given image.\n",
        "        #To get a filter applied onto an image the filter() method is called on the Image object. Name of filter class passed to it is ImageFilter.SHARPEN\n",
        "        #The convolution matrix used is, ((-2, -2, -2),(-2, 32, -2),(-2, -2, -2)) ;a 3x3 matrix.The filter() method applies the convolution matrix to the \n",
        "        # image pixels and returns the sharpened image.\n",
        "\n",
        "        #trying to keep the image in centre of canvas\n",
        "        position = int(round(((28 - new_height) / 2), 0))  \n",
        "        new_image.paste(image, (0, position))  # paste resized image on top of white canvas\n",
        "    else:\n",
        "        #occupy all the height and change the width according to height-width ratio\n",
        "        new_width = int(round((28.0 / height * width), 0)) \n",
        "        if (new_width == 0):  \n",
        "            new_width = 1\n",
        "            \n",
        "        # resize and sharpen\n",
        "        image = my_image.resize((new_width, 28), Image.ANTIALIAS).filter(ImageFilter.SHARPEN)\n",
        "        position = int(round(((28 - new_width) / 2), 0))  \n",
        "        new_image.paste(image, (position, 0))  # paste resized image on top of white canvas\n",
        "\n",
        "\n",
        "    lis = list(new_image.getdata())   #getdata() returns a sequence of data. The sequence object is flattened,i.e, one dimensional\n",
        "    # normalizing pixels to 0 and 1. \n",
        "    final_img = [(255 - x) * 1.0 / 255.0 for x in lis]\n",
        "    #print(tva)\n",
        "    for i in range(len(final_img)):\n",
        "        if final_img[i]<=0.45:\n",
        "            final_img[i]=0.0\n",
        "    return final_img"
      ],
      "execution_count": null,
      "outputs": []
    },
    {
      "cell_type": "markdown",
      "metadata": {
        "id": "qTp5yR9rCA9n",
        "colab_type": "text"
      },
      "source": [
        "Inputs from outside of dataset"
      ]
    },
    {
      "cell_type": "code",
      "metadata": {
        "id": "fflZ9K_aOs9S",
        "colab_type": "code",
        "colab": {
          "base_uri": "https://localhost:8080/",
          "height": 282
        },
        "outputId": "0c4562f8-e90d-4508-9274-35d1994dea65"
      },
      "source": [
        "#first example\n",
        "my_img=imageprepare('./P.jpg')#file path here\n",
        "my_img=np.array(my_img)\n",
        "plt.imshow(my_img.reshape(28,28),cmap='gist_gray') "
      ],
      "execution_count": null,
      "outputs": [
        {
          "output_type": "execute_result",
          "data": {
            "text/plain": [
              "<matplotlib.image.AxesImage at 0x7ff373e334e0>"
            ]
          },
          "metadata": {
            "tags": []
          },
          "execution_count": 106
        },
        {
          "output_type": "display_data",
          "data": {
            "image/png": "[encoded data removed]",
            "text/plain": [
              "<Figure size 432x288 with 1 Axes>"
            ]
          },
          "metadata": {
            "tags": [],
            "needs_background": "light"
          }
        }
      ]
    },
    {
      "cell_type": "code",
      "metadata": {
        "id": "1Irp_HK0375r",
        "colab_type": "code",
        "colab": {
          "base_uri": "https://localhost:8080/",
          "height": 51
        },
        "outputId": "7c0debb0-477e-45b1-d3ba-9e41842c586c"
      },
      "source": [
        "char_predictor(my_img)"
      ],
      "execution_count": null,
      "outputs": [
        {
          "output_type": "stream",
          "text": [
            "INFO:tensorflow:Restoring parameters from my_models/model_char_recog.ckpt\n",
            "The predicted character is :- P\n"
          ],
          "name": "stdout"
        }
      ]
    },
    {
      "cell_type": "code",
      "metadata": {
        "id": "TuhQZhEyppq9",
        "colab_type": "code",
        "colab": {}
      },
      "source": [
        ""
      ],
      "execution_count": null,
      "outputs": []
    },
    {
      "cell_type": "code",
      "metadata": {
        "id": "YZbwyr1KpqPB",
        "colab_type": "code",
        "colab": {}
      },
      "source": [
        "# example 2"
      ],
      "execution_count": null,
      "outputs": []
    },
    {
      "cell_type": "code",
      "metadata": {
        "id": "tmCLqpbwpsvw",
        "colab_type": "code",
        "colab": {
          "base_uri": "https://localhost:8080/",
          "height": 282
        },
        "outputId": "3b2788d6-7bdb-4eaa-8537-59229fe50338"
      },
      "source": [
        "my_img=imageprepare('./B.jpg')#file path here\n",
        "my_img=np.array(my_img)\n",
        "plt.imshow(my_img.reshape(28,28),cmap='gist_gray') "
      ],
      "execution_count": null,
      "outputs": [
        {
          "output_type": "execute_result",
          "data": {
            "text/plain": [
              "<matplotlib.image.AxesImage at 0x7ff373e12390>"
            ]
          },
          "metadata": {
            "tags": []
          },
          "execution_count": 109
        },
        {
          "output_type": "display_data",
          "data": {
            "image/png": "[encoded data removed]",
            "text/plain": [
              "<Figure size 432x288 with 1 Axes>"
            ]
          },
          "metadata": {
            "tags": [],
            "needs_background": "light"
          }
        }
      ]
    },
    {
      "cell_type": "code",
      "metadata": {
        "id": "-nl7x6Rup6uY",
        "colab_type": "code",
        "colab": {
          "base_uri": "https://localhost:8080/",
          "height": 51
        },
        "outputId": "158e06f6-2705-4f0d-dce3-3cf5640d44bd"
      },
      "source": [
        "char_predictor(my_img)"
      ],
      "execution_count": null,
      "outputs": [
        {
          "output_type": "stream",
          "text": [
            "INFO:tensorflow:Restoring parameters from my_models/model_char_recog.ckpt\n",
            "The predicted character is :- B\n"
          ],
          "name": "stdout"
        }
      ]
    },
    {
      "cell_type": "code",
      "metadata": {
        "id": "oeoUoomsCTmi",
        "colab_type": "code",
        "colab": {}
      },
      "source": [
        ""
      ],
      "execution_count": null,
      "outputs": []
    },
    {
      "cell_type": "code",
      "metadata": {
        "id": "WfYaQ7kDqH2W",
        "colab_type": "code",
        "colab": {}
      },
      "source": [
        "#example 3"
      ],
      "execution_count": null,
      "outputs": []
    },
    {
      "cell_type": "code",
      "metadata": {
        "id": "L72qkuPEqJoJ",
        "colab_type": "code",
        "colab": {
          "base_uri": "https://localhost:8080/",
          "height": 282
        },
        "outputId": "084ee88a-683c-4721-e210-2515dc67d7c1"
      },
      "source": [
        "my_img=imageprepare('./3.jpg')#file path here\n",
        "my_img=np.array(my_img)\n",
        "plt.imshow(my_img.reshape(28,28),cmap='gist_gray') "
      ],
      "execution_count": null,
      "outputs": [
        {
          "output_type": "execute_result",
          "data": {
            "text/plain": [
              "<matplotlib.image.AxesImage at 0x7ff373d6b160>"
            ]
          },
          "metadata": {
            "tags": []
          },
          "execution_count": 112
        },
        {
          "output_type": "display_data",
          "data": {
            "image/png": "[encoded data removed]",
            "text/plain": [
              "<Figure size 432x288 with 1 Axes>"
            ]
          },
          "metadata": {
            "tags": [],
            "needs_background": "light"
          }
        }
      ]
    },
    {
      "cell_type": "code",
      "metadata": {
        "id": "Yui-SZxSqKTS",
        "colab_type": "code",
        "colab": {
          "base_uri": "https://localhost:8080/",
          "height": 51
        },
        "outputId": "0c024753-e4a0-48e0-8fb7-d3d1c89e2892"
      },
      "source": [
        "char_predictor(my_img)"
      ],
      "execution_count": null,
      "outputs": [
        {
          "output_type": "stream",
          "text": [
            "INFO:tensorflow:Restoring parameters from my_models/model_char_recog.ckpt\n",
            "The predicted character is :- 2\n"
          ],
          "name": "stdout"
        }
      ]
    },
    {
      "cell_type": "code",
      "metadata": {
        "id": "9kXWlux7qO2e",
        "colab_type": "code",
        "colab": {}
      },
      "source": [
        ""
      ],
      "execution_count": null,
      "outputs": []
    },
    {
      "cell_type": "code",
      "metadata": {
        "id": "wmE0zQDIQZ1y",
        "colab_type": "code",
        "colab": {}
      },
      "source": [
        "#example 4"
      ],
      "execution_count": null,
      "outputs": []
    },
    {
      "cell_type": "code",
      "metadata": {
        "id": "9ZWyzQIMNq9f",
        "colab_type": "code",
        "colab": {
          "base_uri": "https://localhost:8080/",
          "height": 282
        },
        "outputId": "eb440b94-a17d-4ca0-a3b3-95750d9c9784"
      },
      "source": [
        "my_img=imageprepare('./2.jpg')#file path here\n",
        "my_img=np.array(my_img)\n",
        "plt.imshow(my_img.reshape(28,28),cmap='gist_gray') "
      ],
      "execution_count": null,
      "outputs": [
        {
          "output_type": "execute_result",
          "data": {
            "text/plain": [
              "<matplotlib.image.AxesImage at 0x7ff373d40fd0>"
            ]
          },
          "metadata": {
            "tags": []
          },
          "execution_count": 115
        },
        {
          "output_type": "display_data",
          "data": {
            "image/png": "[encoded data removed]",
            "text/plain": [
              "<Figure size 432x288 with 1 Axes>"
            ]
          },
          "metadata": {
            "tags": [],
            "needs_background": "light"
          }
        }
      ]
    },
    {
      "cell_type": "code",
      "metadata": {
        "id": "cymtzWnjQQ0m",
        "colab_type": "code",
        "colab": {
          "base_uri": "https://localhost:8080/",
          "height": 51
        },
        "outputId": "5a337db1-b562-418c-b97c-eee37b45362c"
      },
      "source": [
        "char_predictor(my_img)"
      ],
      "execution_count": null,
      "outputs": [
        {
          "output_type": "stream",
          "text": [
            "INFO:tensorflow:Restoring parameters from my_models/model_char_recog.ckpt\n",
            "The predicted character is :- 2\n"
          ],
          "name": "stdout"
        }
      ]
    },
    {
      "cell_type": "code",
      "metadata": {
        "id": "knkeZ0KP03yJ",
        "colab_type": "code",
        "colab": {}
      },
      "source": [
        "def predict_my_image():\n",
        "  img=input(\"Please enter path of image file:- \\n\")\n",
        "  my_img=imageprepare(img)#file path here\n",
        "  my_img=np.array(my_img)\n",
        "  if my_img.size==1:\n",
        "    return\n",
        "  plt.imshow(my_img.reshape(28,28),cmap='gist_gray') \n",
        "  char_predictor(my_img)"
      ],
      "execution_count": null,
      "outputs": []
    },
    {
      "cell_type": "markdown",
      "metadata": {
        "id": "EcKZ09AWbcBm",
        "colab_type": "text"
      },
      "source": [
        "**Please Run this last cell and give in the image file to predict the character inside it**"
      ]
    },
    {
      "cell_type": "code",
      "metadata": {
        "id": "It0Oghoaahel",
        "colab_type": "code",
        "colab": {
          "base_uri": "https://localhost:8080/",
          "height": 333
        },
        "outputId": "334a0846-6fc1-4f37-d344-4892ed745df4"
      },
      "source": [
        "predict_my_image()"
      ],
      "execution_count": null,
      "outputs": [
        {
          "output_type": "stream",
          "text": [
            "Please enter path of image file:- \n",
            "./character_images/D1.png\n",
            "INFO:tensorflow:Restoring parameters from my_models/model_char_recog.ckpt\n",
            "The predicted character is :- D\n"
          ],
          "name": "stdout"
        },
        {
          "output_type": "display_data",
          "data": {
            "image/png": "[encoded data removed]",
            "text/plain": [
              "<Figure size 432x288 with 1 Axes>"
            ]
          },
          "metadata": {
            "tags": [],
            "needs_background": "light"
          }
        }
      ]
    }
  ]
}
