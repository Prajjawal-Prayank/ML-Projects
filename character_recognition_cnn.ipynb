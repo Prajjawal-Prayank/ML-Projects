{
  "nbformat": 4,
  "nbformat_minor": 0,
  "metadata": {
    "colab": {
      "name": "char_recognition_cnn.ipynb",
      "provenance": [],
      "collapsed_sections": [],
      "authorship_tag": "ABX9TyMjTWfiK5jVrRUZLRKMbztw"
    },
    "kernelspec": {
      "name": "python3",
      "display_name": "Python 3"
    }
  },
  "cells": [
    {
      "cell_type": "code",
      "metadata": {
        "id": "Yzfy6lqOIDYq",
        "colab_type": "code",
        "outputId": "84ca2cb1-9c03-4394-e2c4-a9063e74e4b0",
        "colab": {
          "base_uri": "https://localhost:8080/",
          "height": 51
        }
      },
      "source": [
        "%tensorflow_version 1.x\n",
        "import tensorflow as tf\n",
        "import time\n",
        "import matplotlib.pyplot as plt\n",
        "%matplotlib inline\n",
        "print(tf.__version__)"
      ],
      "execution_count": 1,
      "outputs": [
        {
          "output_type": "stream",
          "text": [
            "TensorFlow 1.x selected.\n",
            "1.15.2\n"
          ],
          "name": "stdout"
        }
      ]
    },
    {
      "cell_type": "code",
      "metadata": {
        "id": "XaT18m5UPL5v",
        "colab_type": "code",
        "outputId": "66b822ae-a015-4905-cb03-bbe3ddc78d65",
        "colab": {
          "base_uri": "https://localhost:8080/",
          "height": 122
        }
      },
      "source": [
        "from google.colab import drive\n",
        "drive.mount('/content/gdrive')"
      ],
      "execution_count": 2,
      "outputs": [
        {
          "output_type": "stream",
          "text": [
            "Go to this URL in a browser: https://accounts.google.com/o/oauth2/auth?client_id=947318989803-6bn6qk8qdgf4n4g3pfee6491hc0brc4i.apps.googleusercontent.com&redirect_uri=urn%3aietf%3awg%3aoauth%3a2.0%3aoob&response_type=code&scope=email%20https%3a%2f%2fwww.googleapis.com%2fauth%2fdocs.test%20https%3a%2f%2fwww.googleapis.com%2fauth%2fdrive%20https%3a%2f%2fwww.googleapis.com%2fauth%2fdrive.photos.readonly%20https%3a%2f%2fwww.googleapis.com%2fauth%2fpeopleapi.readonly\n",
            "\n",
            "Enter your authorization code:\n",
            "··········\n",
            "Mounted at /content/gdrive\n"
          ],
          "name": "stdout"
        }
      ]
    },
    {
      "cell_type": "code",
      "metadata": {
        "id": "kG-U3FEVlpP0",
        "colab_type": "code",
        "outputId": "683aa641-141d-4343-80aa-97e31828f53f",
        "colab": {
          "base_uri": "https://localhost:8080/",
          "height": 34
        }
      },
      "source": [
        "cd /content/gdrive/My Drive/"
      ],
      "execution_count": 3,
      "outputs": [
        {
          "output_type": "stream",
          "text": [
            "/content/gdrive/My Drive\n"
          ],
          "name": "stdout"
        }
      ]
    },
    {
      "cell_type": "code",
      "metadata": {
        "id": "i5hHaqcSl3L0",
        "colab_type": "code",
        "outputId": "04ae4d9e-6828-455e-b1c7-0fa000d52096",
        "colab": {
          "base_uri": "https://localhost:8080/",
          "height": 85
        }
      },
      "source": [
        "#pip install python-mnist"
      ],
      "execution_count": 6,
      "outputs": [
        {
          "output_type": "stream",
          "text": [
            "Collecting python-mnist\n",
            "  Downloading https://files.pythonhosted.org/packages/64/f0/6086b84427c3bf156ec0b3c2f9dfc1d770b35f942b9ed8a64f5229776a80/python_mnist-0.7-py2.py3-none-any.whl\n",
            "Installing collected packages: python-mnist\n",
            "Successfully installed python-mnist-0.7\n"
          ],
          "name": "stdout"
        }
      ]
    },
    {
      "cell_type": "code",
      "metadata": {
        "id": "6ZDdbI1fl7x3",
        "colab_type": "code",
        "colab": {}
      },
      "source": [
        "from mnist import MNIST"
      ],
      "execution_count": 0,
      "outputs": []
    },
    {
      "cell_type": "code",
      "metadata": {
        "id": "m2JWC-WjmJuJ",
        "colab_type": "code",
        "outputId": "3fd56ccf-4e0a-4e55-881b-4b7a25f20e69",
        "colab": {
          "base_uri": "https://localhost:8080/",
          "height": 85
        }
      },
      "source": [
        "ls emnist_data/"
      ],
      "execution_count": 8,
      "outputs": [
        {
          "output_type": "stream",
          "text": [
            "emnist-balanced-test-images-idx3-ubyte.gz\n",
            "emnist-balanced-test-labels-idx1-ubyte.gz\n",
            "emnist-balanced-train-images-idx3-ubyte.gz\n",
            "emnist-balanced-train-labels-idx1-ubyte.gz\n"
          ],
          "name": "stdout"
        }
      ]
    },
    {
      "cell_type": "code",
      "metadata": {
        "id": "Joh7aTJSmPR2",
        "colab_type": "code",
        "colab": {}
      },
      "source": [
        "emnist = MNIST('emnist_data/')\n",
        "emnist.select_emnist('balanced')\n",
        "\n",
        "images,labels = emnist.load_training()\n",
        "testIM,testLAB = emnist.load_testing()"
      ],
      "execution_count": 0,
      "outputs": []
    },
    {
      "cell_type": "code",
      "metadata": {
        "id": "fFv6znisuKdZ",
        "colab_type": "code",
        "colab": {}
      },
      "source": [
        "import numpy as np"
      ],
      "execution_count": 0,
      "outputs": []
    },
    {
      "cell_type": "code",
      "metadata": {
        "id": "VxxuNObeu1pk",
        "colab_type": "code",
        "colab": {}
      },
      "source": [
        "n_images = np.array(images)   \n",
        "n_labels = np.array(labels)   \n",
        "test_images = np.array(testIM)   \n",
        "testLAB = np.array(testLAB) "
      ],
      "execution_count": 0,
      "outputs": []
    },
    {
      "cell_type": "code",
      "metadata": {
        "id": "OkSKtHGy6vjv",
        "colab_type": "code",
        "colab": {}
      },
      "source": [
        "#fitting data b/w 0 and 1 (for easy calculation)"
      ],
      "execution_count": 0,
      "outputs": []
    },
    {
      "cell_type": "code",
      "metadata": {
        "id": "UGmknv2k6793",
        "colab_type": "code",
        "colab": {}
      },
      "source": [
        "from sklearn.preprocessing import MinMaxScaler\n",
        "scaler = MinMaxScaler()                                #this makes scaler_model (a variable) an instance of  MinMaxScaler\n",
        "scaler.fit(n_images)                                   #this fits the data in the model\n",
        "train_images = scaler.transform(n_images)              #finally this converts the data between the given range.By default, 0 to 1"
      ],
      "execution_count": 0,
      "outputs": []
    },
    {
      "cell_type": "code",
      "metadata": {
        "id": "dCHvOPSQ7Af6",
        "colab_type": "code",
        "colab": {}
      },
      "source": [
        "scaler.fit(testIM)\n",
        "test_images = scaler.transform(testIM)"
      ],
      "execution_count": 0,
      "outputs": []
    },
    {
      "cell_type": "code",
      "metadata": {
        "id": "Uh8iuAX77BH6",
        "colab_type": "code",
        "colab": {}
      },
      "source": [
        ""
      ],
      "execution_count": 0,
      "outputs": []
    },
    {
      "cell_type": "code",
      "metadata": {
        "id": "Zz6I4kMw7Bt8",
        "colab_type": "code",
        "colab": {}
      },
      "source": [
        "#one hot encoding of labels"
      ],
      "execution_count": 0,
      "outputs": []
    },
    {
      "cell_type": "code",
      "metadata": {
        "id": "4W_T15oUwaNL",
        "colab_type": "code",
        "colab": {}
      },
      "source": [
        "from sklearn.preprocessing import OneHotEncoder\n",
        "\n",
        "shaped_n_labels  = n_labels.reshape(-1,1)\n",
        "enc = OneHotEncoder()\n",
        "enc.fit(shaped_n_labels)\n",
        "train_labels = enc.transform(shaped_n_labels).toarray()\n",
        "\n",
        "shaped_testLAB = testLAB.reshape(-1,1)\n",
        "enc.fit(shaped_testLAB)\n",
        "test_labels = enc.transform(shaped_testLAB).toarray()"
      ],
      "execution_count": 0,
      "outputs": []
    },
    {
      "cell_type": "code",
      "metadata": {
        "id": "1scNurg0xRea",
        "colab_type": "code",
        "colab": {}
      },
      "source": [
        "#naming the labels\n",
        "labels_dict ={0:0,1:1,2:2,3:3,4:4,5:5,6:6,7:7,8:8,9:9,10:'A',11:'B',12:'C',13:'D',14:'E',\n",
        "              15:'F',16:'G',17:'H',18:'I',19:'J',20:'K',21:'l',22:'M',23:'N',24:'O',25:'P',\n",
        "              26:'Q',27:'R',28:'S',29:'T',30:'u',31:'V',32:'W',33:'X',34:'Y',35:'Z',36:'a',\n",
        "              37:'b',38:'d',39:'e',40:'f',41:'g',42:'h',43:'n',44:'q',45:'r',46:'t'}\n",
        "\n",
        "# the following characters are left out due to similarity in their upper case and lower case representations (or similarity with other characters)\n",
        "# L, U, c,i,j,k,m,o,p,s,v,w,x,y,z  (total 15)\n",
        "#so, characters [a-z] , [A-Z], [0-9] are total 26+26+10=62\n",
        "#15 are not used. So, remaining no. of labels =62-15=47"
      ],
      "execution_count": 0,
      "outputs": []
    },
    {
      "cell_type": "code",
      "metadata": {
        "id": "apQ_ZCWRWTYw",
        "colab_type": "code",
        "colab": {}
      },
      "source": [
        ""
      ],
      "execution_count": 0,
      "outputs": []
    },
    {
      "cell_type": "code",
      "metadata": {
        "id": "bWMmUcub8Ywp",
        "colab_type": "code",
        "colab": {}
      },
      "source": [
        "# some helper functions:-"
      ],
      "execution_count": 0,
      "outputs": []
    },
    {
      "cell_type": "code",
      "metadata": {
        "id": "-pZ5F538xlMA",
        "colab_type": "code",
        "colab": {}
      },
      "source": [
        "# 1) initializing weights\n",
        "def init_weights(shape):\n",
        "    init_random_dist=tf.truncated_normal(shape,stddev=0.1)\n",
        "    \"\"\"Outputs random values from a truncated normal distribution.\n",
        "    The generated values follow a normal distribution with specified mean and standard deviation, \n",
        "    except that values whose magnitude is more than 2 standard deviations from the mean are dropped \n",
        "    and re-picked.\"\"\"\n",
        "    \"\"\"Normal distribution, also known as the Gaussian distribution, is a probability distribution that is \n",
        "    symmetric about the mean, showing that data near the mean are more frequent in occurrence than data far \n",
        "    from the mean. In graph form, normal distribution will appear as a bell curve.\"\"\"\n",
        "    return tf.Variable(init_random_dist)"
      ],
      "execution_count": 0,
      "outputs": []
    },
    {
      "cell_type": "code",
      "metadata": {
        "id": "XJOtToSwxm5h",
        "colab_type": "code",
        "colab": {}
      },
      "source": [
        "# 2) initializing bias\n",
        "def init_bias(shape):\n",
        "    init_bias_vals=tf.constant(0.1,shape=shape)          # all values are 0.1 and the shape is that of the tensor\n",
        "    return tf.Variable(init_bias_vals)"
      ],
      "execution_count": 0,
      "outputs": []
    },
    {
      "cell_type": "code",
      "metadata": {
        "id": "byac-RaKxqcC",
        "colab_type": "code",
        "colab": {}
      },
      "source": [
        "# 3) convolutional func\n",
        "def conv2d(x,W):\n",
        "    # x is the input tensor.A 4d tensor. its shape:- [batch,height,width,channel]  (channel is 1 for grayscale and 3 for rgb)\n",
        "    # batch basically tells which all images are being taken as i/p/. height and weight are of individual images. \n",
        "    # W is the kernel(or the filter).its shape:- [filter height,filter width,no. of channels as i/p, no. of channels as o/p ]\n",
        "    return tf.nn.conv2d(x,W,strides=[1,1,1,1],padding='SAME')    \n",
        "                        # basic 2d convolutional function"
      ],
      "execution_count": 0,
      "outputs": []
    },
    {
      "cell_type": "code",
      "metadata": {
        "id": "Nhfb6uSPxs9R",
        "colab_type": "code",
        "colab": {}
      },
      "source": [
        "# 4) pooling\n",
        "def max_pool_2by2(x):\n",
        "    # x is the input tensor. its shape:- [batch,height,width,channel] \n",
        "    return tf.nn.max_pool(x,ksize=[1,2,2,1],strides=[1,2,2,1],padding=\"SAME\")\n",
        "                # pooling is done only along height and width. so, it is basically 2*2 pooling\n",
        "                # ksize specifies the size of the window for each dimension of input tensor\n",
        "                # stride specifies the stride of the sliding window for each dimension of input tensor"
      ],
      "execution_count": 0,
      "outputs": []
    },
    {
      "cell_type": "code",
      "metadata": {
        "id": "4m8aHjL2xuxL",
        "colab_type": "code",
        "colab": {}
      },
      "source": [
        "\n",
        "\n"
      ],
      "execution_count": 0,
      "outputs": []
    },
    {
      "cell_type": "code",
      "metadata": {
        "id": "0ylS6QcVxwCB",
        "colab_type": "code",
        "colab": {}
      },
      "source": [
        "# convolutional layer\n",
        "def convolutional_layer(input_x,shape):\n",
        "    w=init_weights(shape)\n",
        "    b=init_bias([shape[3]])\n",
        "    return tf.nn.relu(conv2d(input_x,w)+b)"
      ],
      "execution_count": 0,
      "outputs": []
    },
    {
      "cell_type": "code",
      "metadata": {
        "id": "lQLQ_YmLxyLW",
        "colab_type": "code",
        "colab": {}
      },
      "source": [
        "# normal (or, fully connected) layer\n",
        "def normal_full_layer(input_layer,size):\n",
        "    input_size=int(input_layer.get_shape()[1])\n",
        "    w=init_weights([input_size,size])\n",
        "    b=init_bias([size])\n",
        "    return tf.matmul(input_layer,w)+b"
      ],
      "execution_count": 0,
      "outputs": []
    },
    {
      "cell_type": "code",
      "metadata": {
        "id": "6JpPG0wjxzkY",
        "colab_type": "code",
        "colab": {}
      },
      "source": [
        "\n",
        "\n"
      ],
      "execution_count": 0,
      "outputs": []
    },
    {
      "cell_type": "code",
      "metadata": {
        "id": "OaslO9hYx1Qn",
        "colab_type": "code",
        "colab": {}
      },
      "source": [
        "# placeholder\n",
        "x=tf.placeholder(tf.float32,shape=[None,784])\n",
        "y_true=tf.placeholder(tf.float32,shape=[None,47])"
      ],
      "execution_count": 0,
      "outputs": []
    },
    {
      "cell_type": "code",
      "metadata": {
        "id": "z-X8ioVPx1_B",
        "colab_type": "code",
        "colab": {}
      },
      "source": [
        ""
      ],
      "execution_count": 0,
      "outputs": []
    },
    {
      "cell_type": "code",
      "metadata": {
        "id": "RH8HmNiJyLuV",
        "colab_type": "code",
        "colab": {}
      },
      "source": [
        "# layers\n",
        "x_image= tf.reshape(x,[-1,28,28,1])   # converting the i/p img back to layers. The 28*28 is h*w. 1 is coz of grayscale."
      ],
      "execution_count": 0,
      "outputs": []
    },
    {
      "cell_type": "code",
      "metadata": {
        "id": "buW-rMWdx3Ze",
        "colab_type": "code",
        "colab": {}
      },
      "source": [
        "# first convolutional layer\n",
        "convo_1=convolutional_layer(x_image,shape=[5,5,1,32]) # the wt. tensor is [5,5,1,32]\n",
        "                                                      # 5 by 5 convolutional layer. so, this convolution will compute\n",
        "                                                      # 32 features for each 5 by 5 patch. 1 is the i/p channels.32 is the no.\n",
        "                                                      # of o/p channels."
      ],
      "execution_count": 0,
      "outputs": []
    },
    {
      "cell_type": "code",
      "metadata": {
        "id": "pdFogeY4x5IR",
        "colab_type": "code",
        "colab": {}
      },
      "source": [
        "# first pooling layer\n",
        "convo_1_pooling = max_pool_2by2(convo_1)"
      ],
      "execution_count": 0,
      "outputs": []
    },
    {
      "cell_type": "code",
      "metadata": {
        "id": "IiI3l3GWyRDt",
        "colab_type": "code",
        "colab": {}
      },
      "source": [
        "# second convolutional layer\n",
        "convo_2 = convolutional_layer(convo_1_pooling,shape=[5,5,32,64])    # 64 features\n",
        "convo_2_pooling= max_pool_2by2(convo_2)"
      ],
      "execution_count": 0,
      "outputs": []
    },
    {
      "cell_type": "code",
      "metadata": {
        "id": "HOImGl3hvYkW",
        "colab_type": "code",
        "colab": {}
      },
      "source": [
        ""
      ],
      "execution_count": 0,
      "outputs": []
    },
    {
      "cell_type": "code",
      "metadata": {
        "id": "Fh3ww5nBySv-",
        "colab_type": "code",
        "colab": {}
      },
      "source": [
        "#this o/p is now flattened out so that it gets connected to a fully connected layer\n",
        "convo_2_flat= tf.reshape(convo_2_pooling,[-1,7*7*64])\n",
        "#here 7*7 is dimension of each image. here's how:-\n",
        "#28*28 on pooling with 2*2 gives 14*14\n",
        "#14*14 on pooling with 2*2 gives 7*7\n",
        "#NOTE:- the dimension of the image didn't change on convolution as \"SAME\" type of convolution is used.Meaning to say that the padding is such that the final\n",
        "#       o/p dimension remains the same.here, padding=(f-1)/2=(5-1)/2=2 . so after padding , 28*28 becomes 32*32. and on convolution gives 28*28 \n",
        "#       (as, n-f+1=32-5+1=28  )\n",
        "full_layer_one=tf.nn.relu(normal_full_layer(convo_2_flat,1024))"
      ],
      "execution_count": 0,
      "outputs": []
    },
    {
      "cell_type": "code",
      "metadata": {
        "id": "h1rKhykRNwX0",
        "colab_type": "code",
        "colab": {}
      },
      "source": [
        ""
      ],
      "execution_count": 0,
      "outputs": []
    },
    {
      "cell_type": "code",
      "metadata": {
        "id": "wlrmpzuMu0as",
        "colab_type": "code",
        "colab": {}
      },
      "source": [
        ""
      ],
      "execution_count": 0,
      "outputs": []
    },
    {
      "cell_type": "code",
      "metadata": {
        "id": "zuKuysJ6u6Es",
        "colab_type": "code",
        "colab": {}
      },
      "source": [
        ""
      ],
      "execution_count": 0,
      "outputs": []
    },
    {
      "cell_type": "code",
      "metadata": {
        "id": "XVM5nu8lyU-e",
        "colab_type": "code",
        "outputId": "77489f79-81d2-46fa-bb2e-f0c2e531fc97",
        "colab": {
          "base_uri": "https://localhost:8080/",
          "height": 88
        }
      },
      "source": [
        "# dropout\n",
        "hold_prob= tf.placeholder(tf.float32)\n",
        "full_one_dropout= tf.nn.dropout(full_layer_one,keep_prob=hold_prob)"
      ],
      "execution_count": 31,
      "outputs": [
        {
          "output_type": "stream",
          "text": [
            "WARNING:tensorflow:From <ipython-input-31-62245365a1b4>:2: calling dropout (from tensorflow.python.ops.nn_ops) with keep_prob is deprecated and will be removed in a future version.\n",
            "Instructions for updating:\n",
            "Please use `rate` instead of `keep_prob`. Rate should be set to `rate = 1 - keep_prob`.\n"
          ],
          "name": "stdout"
        }
      ]
    },
    {
      "cell_type": "code",
      "metadata": {
        "id": "CjBtgpxxyXnW",
        "colab_type": "code",
        "colab": {}
      },
      "source": [
        "\n",
        "\n"
      ],
      "execution_count": 0,
      "outputs": []
    },
    {
      "cell_type": "code",
      "metadata": {
        "id": "BYT-trNDyaRA",
        "colab_type": "code",
        "colab": {}
      },
      "source": [
        "y_pred= normal_full_layer(full_one_dropout,47)    # 47 is the no. of labels"
      ],
      "execution_count": 0,
      "outputs": []
    },
    {
      "cell_type": "code",
      "metadata": {
        "id": "Cyf7W1AVzp7o",
        "colab_type": "code",
        "colab": {}
      },
      "source": [
        "\n"
      ],
      "execution_count": 0,
      "outputs": []
    },
    {
      "cell_type": "code",
      "metadata": {
        "id": "kYMPNDZPzt0b",
        "colab_type": "code",
        "outputId": "47ae324f-17aa-412a-8645-892529b68a1e",
        "colab": {
          "base_uri": "https://localhost:8080/",
          "height": 173
        }
      },
      "source": [
        "# loss function\n",
        "cross_entropy = tf.reduce_mean(tf.nn.softmax_cross_entropy_with_logits(labels=y_true,logits=y_pred))"
      ],
      "execution_count": 33,
      "outputs": [
        {
          "output_type": "stream",
          "text": [
            "WARNING:tensorflow:From <ipython-input-33-e0c07892321c>:1: softmax_cross_entropy_with_logits (from tensorflow.python.ops.nn_ops) is deprecated and will be removed in a future version.\n",
            "Instructions for updating:\n",
            "\n",
            "Future major versions of TensorFlow will allow gradients to flow\n",
            "into the labels input on backprop by default.\n",
            "\n",
            "See `tf.nn.softmax_cross_entropy_with_logits_v2`.\n",
            "\n"
          ],
          "name": "stdout"
        }
      ]
    },
    {
      "cell_type": "code",
      "metadata": {
        "id": "0B6YvLmYzuih",
        "colab_type": "code",
        "colab": {}
      },
      "source": [
        "# optimizer\n",
        "optimizer = tf.train.AdamOptimizer(learning_rate=0.0005)\n",
        "train =  optimizer.minimize(cross_entropy)"
      ],
      "execution_count": 0,
      "outputs": []
    },
    {
      "cell_type": "code",
      "metadata": {
        "id": "UUFuGXG0zw1I",
        "colab_type": "code",
        "colab": {}
      },
      "source": [
        "init= tf.global_variables_initializer()"
      ],
      "execution_count": 0,
      "outputs": []
    },
    {
      "cell_type": "code",
      "metadata": {
        "id": "wPePx_C9zyn1",
        "colab_type": "code",
        "colab": {}
      },
      "source": [
        "saver = tf.train.Saver()"
      ],
      "execution_count": 0,
      "outputs": []
    },
    {
      "cell_type": "code",
      "metadata": {
        "id": "LT8pL8c1z0ZK",
        "colab_type": "code",
        "outputId": "490acfd9-b85e-4400-9f51-300af9b87a33",
        "colab": {
          "base_uri": "https://localhost:8080/",
          "height": 1000
        }
      },
      "source": [
        "start = time.time()\n",
        "steps=6000\n",
        "with tf.Session() as sess:\n",
        "    sess.run(init)\n",
        "    \n",
        "    for i in range(steps):\n",
        "        #batch_x,batch_y= train_images.next_batch(50)\n",
        "        rand_idx=np.random.randint(0,112800,90)\n",
        "        batch_x= train_images[rand_idx]\n",
        "        batch_y=train_labels[rand_idx]\n",
        "        sess.run(train,feed_dict={x:batch_x,y_true:batch_y,hold_prob:0.5})   \n",
        "                                    # hold_prob:0.5 implies every neuron has a 50% hold probablity\n",
        "        if(i%100==0):\n",
        "            print(\"On Step: {}\".format(i))\n",
        "            print(\"Accuracy:  \")\n",
        "            matches=tf.equal(tf.argmax(y_pred,1),tf.argmax(y_true,1))\n",
        "            #argmax(input, axis=None, name=None, dimension=None) Returns the index with the largest value across axis of a tensor\n",
        "            \n",
        "            acc=tf.reduce_mean(tf.cast(matches,tf.float32))\n",
        "            print(sess.run(acc,feed_dict={x:test_images,y_true:test_labels,hold_prob:1.0}))\n",
        "            # during testing we don't want to dropout any of the neurons. So, we write hold_prob:1.0 , meaning that every neuron will be held at its \n",
        "            # position and none will be dropped out\n",
        "            print('\\n')\n",
        "\n",
        "            saver.save(sess,'model_char_recog.ckpt')\n",
        "end = time.time()"
      ],
      "execution_count": 37,
      "outputs": [
        {
          "output_type": "stream",
          "text": [
            "On Step: 0\n",
            "Accuracy:  \n",
            "0.019627659\n",
            "\n",
            "\n",
            "On Step: 100\n",
            "Accuracy:  \n",
            "0.59590423\n",
            "\n",
            "\n",
            "On Step: 200\n",
            "Accuracy:  \n",
            "0.7154787\n",
            "\n",
            "\n",
            "On Step: 300\n",
            "Accuracy:  \n",
            "0.74787235\n",
            "\n",
            "\n",
            "On Step: 400\n",
            "Accuracy:  \n",
            "0.7831383\n",
            "\n",
            "\n",
            "On Step: 500\n",
            "Accuracy:  \n",
            "0.80281913\n",
            "\n",
            "\n",
            "On Step: 600\n",
            "Accuracy:  \n",
            "0.8089362\n",
            "\n",
            "\n",
            "On Step: 700\n",
            "Accuracy:  \n",
            "0.8161702\n",
            "\n",
            "\n",
            "On Step: 800\n",
            "Accuracy:  \n",
            "0.8249468\n",
            "\n",
            "\n",
            "On Step: 900\n",
            "Accuracy:  \n",
            "0.83292556\n",
            "\n",
            "\n",
            "On Step: 1000\n",
            "Accuracy:  \n",
            "0.8323404\n",
            "\n",
            "\n",
            "On Step: 1100\n",
            "Accuracy:  \n",
            "0.8324468\n",
            "\n",
            "\n",
            "On Step: 1200\n",
            "Accuracy:  \n",
            "0.83904254\n",
            "\n",
            "\n",
            "On Step: 1300\n",
            "Accuracy:  \n",
            "0.8431383\n",
            "\n",
            "\n",
            "On Step: 1400\n",
            "Accuracy:  \n",
            "0.8423404\n",
            "\n",
            "\n",
            "On Step: 1500\n",
            "Accuracy:  \n",
            "0.84760636\n",
            "\n",
            "\n",
            "On Step: 1600\n",
            "Accuracy:  \n",
            "0.8498404\n",
            "\n",
            "\n",
            "On Step: 1700\n",
            "Accuracy:  \n",
            "0.85218084\n",
            "\n",
            "\n",
            "On Step: 1800\n",
            "Accuracy:  \n",
            "0.8567553\n",
            "\n",
            "\n",
            "On Step: 1900\n",
            "Accuracy:  \n",
            "0.85457444\n",
            "\n",
            "\n",
            "On Step: 2000\n",
            "Accuracy:  \n",
            "0.85781914\n",
            "\n",
            "\n",
            "On Step: 2100\n",
            "Accuracy:  \n",
            "0.8580319\n",
            "\n",
            "\n",
            "On Step: 2200\n",
            "Accuracy:  \n",
            "0.85867023\n",
            "\n",
            "\n",
            "On Step: 2300\n",
            "Accuracy:  \n",
            "0.85712767\n",
            "\n",
            "\n",
            "On Step: 2400\n",
            "Accuracy:  \n",
            "0.85877657\n",
            "\n",
            "\n",
            "On Step: 2500\n",
            "Accuracy:  \n",
            "0.85952127\n",
            "\n",
            "\n",
            "On Step: 2600\n",
            "Accuracy:  \n",
            "0.8600532\n",
            "\n",
            "\n",
            "On Step: 2700\n",
            "Accuracy:  \n",
            "0.8622872\n",
            "\n",
            "\n",
            "On Step: 2800\n",
            "Accuracy:  \n",
            "0.8634043\n",
            "\n",
            "\n",
            "On Step: 2900\n",
            "Accuracy:  \n",
            "0.8667553\n",
            "\n",
            "\n",
            "On Step: 3000\n",
            "Accuracy:  \n",
            "0.8662234\n",
            "\n",
            "\n",
            "On Step: 3100\n",
            "Accuracy:  \n",
            "0.8669681\n",
            "\n",
            "\n",
            "On Step: 3200\n",
            "Accuracy:  \n",
            "0.8695745\n",
            "\n",
            "\n",
            "On Step: 3300\n",
            "Accuracy:  \n",
            "0.86994684\n",
            "\n",
            "\n",
            "On Step: 3400\n",
            "Accuracy:  \n",
            "0.8718085\n",
            "\n",
            "\n",
            "On Step: 3500\n",
            "Accuracy:  \n",
            "0.8698936\n",
            "\n",
            "\n",
            "On Step: 3600\n",
            "Accuracy:  \n",
            "0.868617\n",
            "\n",
            "\n",
            "On Step: 3700\n",
            "Accuracy:  \n",
            "0.8692553\n",
            "\n",
            "\n",
            "On Step: 3800\n",
            "Accuracy:  \n",
            "0.8707447\n",
            "\n",
            "\n",
            "On Step: 3900\n",
            "Accuracy:  \n",
            "0.87037235\n",
            "\n",
            "\n",
            "On Step: 4000\n",
            "Accuracy:  \n",
            "0.8690426\n",
            "\n",
            "\n",
            "On Step: 4100\n",
            "Accuracy:  \n",
            "0.8687234\n",
            "\n",
            "\n",
            "On Step: 4200\n",
            "Accuracy:  \n",
            "0.8717553\n",
            "\n",
            "\n",
            "On Step: 4300\n",
            "Accuracy:  \n",
            "0.8712234\n",
            "\n",
            "\n",
            "On Step: 4400\n",
            "Accuracy:  \n",
            "0.8696808\n",
            "\n",
            "\n",
            "On Step: 4500\n",
            "Accuracy:  \n",
            "0.87148935\n",
            "\n",
            "\n",
            "On Step: 4600\n",
            "Accuracy:  \n",
            "0.87090427\n",
            "\n",
            "\n",
            "On Step: 4700\n",
            "Accuracy:  \n",
            "0.8737766\n",
            "\n",
            "\n",
            "On Step: 4800\n",
            "Accuracy:  \n",
            "0.87026596\n",
            "\n",
            "\n",
            "On Step: 4900\n",
            "Accuracy:  \n",
            "0.8720745\n",
            "\n",
            "\n",
            "On Step: 5000\n",
            "Accuracy:  \n",
            "0.8745745\n",
            "\n",
            "\n",
            "On Step: 5100\n",
            "Accuracy:  \n",
            "0.8739362\n",
            "\n",
            "\n",
            "On Step: 5200\n",
            "Accuracy:  \n",
            "0.87329787\n",
            "\n",
            "\n",
            "On Step: 5300\n",
            "Accuracy:  \n",
            "0.87755316\n",
            "\n",
            "\n",
            "On Step: 5400\n",
            "Accuracy:  \n",
            "0.87234044\n",
            "\n",
            "\n",
            "On Step: 5500\n",
            "Accuracy:  \n",
            "0.87654257\n",
            "\n",
            "\n",
            "On Step: 5600\n",
            "Accuracy:  \n",
            "0.87914896\n",
            "\n",
            "\n",
            "On Step: 5700\n",
            "Accuracy:  \n",
            "0.8739362\n",
            "\n",
            "\n",
            "On Step: 5800\n",
            "Accuracy:  \n",
            "0.8764362\n",
            "\n",
            "\n",
            "On Step: 5900\n",
            "Accuracy:  \n",
            "0.878883\n",
            "\n",
            "\n"
          ],
          "name": "stdout"
        }
      ]
    },
    {
      "cell_type": "code",
      "metadata": {
        "id": "JG6KovDUCs_N",
        "colab_type": "code",
        "colab": {}
      },
      "source": [
        "# predicting on single examples"
      ],
      "execution_count": 0,
      "outputs": []
    },
    {
      "cell_type": "code",
      "metadata": {
        "id": "VSqP2kPsTncQ",
        "colab_type": "code",
        "colab": {}
      },
      "source": [
        ""
      ],
      "execution_count": 0,
      "outputs": []
    },
    {
      "cell_type": "code",
      "metadata": {
        "id": "uYGu4El6H3XX",
        "colab_type": "code",
        "outputId": "d6499a84-a16f-47bf-c643-8bb0053ae18a",
        "colab": {
          "base_uri": "https://localhost:8080/",
          "height": 282
        }
      },
      "source": [
        "image_index = 444\n",
        "single_image = train_images[image_index].reshape(28,28) \n",
        "plt.imshow(single_image,cmap='gist_gray') "
      ],
      "execution_count": 38,
      "outputs": [
        {
          "output_type": "execute_result",
          "data": {
            "text/plain": [
              "<matplotlib.image.AxesImage at 0x7f7c846f4908>"
            ]
          },
          "metadata": {
            "tags": []
          },
          "execution_count": 38
        },
        {
          "output_type": "display_data",
          "data": {
            "image/png": "[encoded data removed]",
            "text/plain": [
              "<Figure size 432x288 with 1 Axes>"
            ]
          },
          "metadata": {
            "tags": [],
            "needs_background": "light"
          }
        }
      ]
    },
    {
      "cell_type": "code",
      "metadata": {
        "id": "DQHBe-2SS9h_",
        "colab_type": "code",
        "outputId": "ea9c948b-1eaa-4859-9002-b4c1008e5b85",
        "colab": {
          "base_uri": "https://localhost:8080/",
          "height": 51
        }
      },
      "source": [
        "with tf.Session() as sess:\n",
        "  sess.run(init)\n",
        "  saver.restore(sess, \"model_char_recog.ckpt\")\n",
        "       \n",
        "  single_image = train_images[image_index]     \n",
        "  prediction=tf.argmax(y_pred,1)\n",
        "  var = prediction.eval(feed_dict={x: [single_image],y_true:train_labels,hold_prob: 1.0}, session=sess)\n",
        "  print(\"The predicted character is :- \" + str(labels_dict[var[0]]))"
      ],
      "execution_count": 39,
      "outputs": [
        {
          "output_type": "stream",
          "text": [
            "INFO:tensorflow:Restoring parameters from model_char_recog.ckpt\n",
            "The predicted character is :- E\n"
          ],
          "name": "stdout"
        }
      ]
    },
    {
      "cell_type": "code",
      "metadata": {
        "id": "bkuJsfXsTVbc",
        "colab_type": "code",
        "colab": {}
      },
      "source": [
        ""
      ],
      "execution_count": 0,
      "outputs": []
    },
    {
      "cell_type": "code",
      "metadata": {
        "id": "xxLmwHHmdeNR",
        "colab_type": "code",
        "colab": {}
      },
      "source": [
        "# predicting on images given by user"
      ],
      "execution_count": 0,
      "outputs": []
    },
    {
      "cell_type": "code",
      "metadata": {
        "id": "LeDNFSE7tim8",
        "colab_type": "code",
        "colab": {}
      },
      "source": [
        "#function to convert user image into image suitable for the dataset"
      ],
      "execution_count": 0,
      "outputs": []
    },
    {
      "cell_type": "code",
      "metadata": {
        "id": "CCNr038Tt0i3",
        "colab_type": "code",
        "colab": {}
      },
      "source": [
        "from PIL import Image, ImageFilter\n",
        "\n",
        "\n",
        "def imageprepare(argv):\n",
        "    \"\"\"\n",
        "    This function returns the pixel values.\n",
        "    The imput is a png file location.\n",
        "    \"\"\"\n",
        "    im = Image.open(argv).convert('L')\n",
        "    width = float(im.size[0])\n",
        "    height = float(im.size[1])\n",
        "    newImage = Image.new('L', (28, 28), (255))  # creates white canvas of 28x28 pixels\n",
        "\n",
        "    if width > height:  # check which dimension is bigger\n",
        "        # Width is bigger. Width becomes 20 pixels.\n",
        "        nheight = int(round((28.0 / width * height), 0))  # resize height according to ratio width\n",
        "        if (nheight == 0):  # rare case but minimum is 1 pixel\n",
        "            nheight = 1\n",
        "            # resize and sharpen\n",
        "        img = im.resize((28, nheight), Image.ANTIALIAS).filter(ImageFilter.SHARPEN)\n",
        "        wtop = int(round(((28 - nheight) / 2), 0))  # calculate horizontal position\n",
        "        newImage.paste(img, (0, wtop))  # paste resized image on white canvas\n",
        "    else:\n",
        "        # Height is bigger. Heigth becomes 20 pixels.\n",
        "        nwidth = int(round((28.0 / height * width), 0))  # resize width according to ratio height\n",
        "        if (nwidth == 0):  # rare case but minimum is 1 pixel\n",
        "            nwidth = 1\n",
        "            # resize and sharpen\n",
        "        img = im.resize((nwidth, 28), Image.ANTIALIAS).filter(ImageFilter.SHARPEN)\n",
        "        wleft = int(round(((28 - nwidth) / 2), 0))  # caculate vertical pozition\n",
        "        newImage.paste(img, (wleft, 0))  # paste resized image on white canvas\n",
        "\n",
        "    # newImage.save(\"sample.png\n",
        "\n",
        "    tv = list(newImage.getdata())  # get pixel values\n",
        "\n",
        "    # normalize pixels to 0 and 1. 0 is pure white, 1 is pure black.\n",
        "    tva = [(255 - x) * 1.0 / 255.0 for x in tv]\n",
        "    #print(tva)\n",
        "    for i in range(len(tva)):\n",
        "        if tva[i]<=0.45:\n",
        "            tva[i]=0.0\n",
        "    return tva"
      ],
      "execution_count": 0,
      "outputs": []
    },
    {
      "cell_type": "code",
      "metadata": {
        "id": "fflZ9K_aOs9S",
        "colab_type": "code",
        "colab": {}
      },
      "source": [
        "my_img=imageprepare('./P.jpg')#file path here"
      ],
      "execution_count": 0,
      "outputs": []
    },
    {
      "cell_type": "code",
      "metadata": {
        "id": "RNUk7FLUMvJ_",
        "colab_type": "code",
        "colab": {}
      },
      "source": [
        "my_img=np.array(my_img)"
      ],
      "execution_count": 0,
      "outputs": []
    },
    {
      "cell_type": "code",
      "metadata": {
        "id": "Ipc57HBOM8Vi",
        "colab_type": "code",
        "outputId": "57c70eca-1497-4957-dcd8-15063bd47a77",
        "colab": {
          "base_uri": "https://localhost:8080/",
          "height": 282
        }
      },
      "source": [
        "plt.imshow(my_img.reshape(28,28),cmap='gist_gray') "
      ],
      "execution_count": 45,
      "outputs": [
        {
          "output_type": "execute_result",
          "data": {
            "text/plain": [
              "<matplotlib.image.AxesImage at 0x7f7c85451710>"
            ]
          },
          "metadata": {
            "tags": []
          },
          "execution_count": 45
        },
        {
          "output_type": "display_data",
          "data": {
            "image/png": "[encoded data removed]",
            "text/plain": [
              "<Figure size 432x288 with 1 Axes>"
            ]
          },
          "metadata": {
            "tags": [],
            "needs_background": "light"
          }
        }
      ]
    },
    {
      "cell_type": "code",
      "metadata": {
        "id": "u2VyvW_fuFYf",
        "colab_type": "code",
        "outputId": "602473f5-2541-448d-8eb0-3378e8e6c2e0",
        "colab": {
          "base_uri": "https://localhost:8080/",
          "height": 51
        }
      },
      "source": [
        "with tf.Session() as sess:\n",
        "  sess.run(init)\n",
        "  saver.restore(sess, \"model_char_recog.ckpt\")\n",
        "     \n",
        "  prediction=tf.argmax(y_pred,1)\n",
        "  var = prediction.eval(feed_dict={x: [my_img],y_true:train_labels,hold_prob: 1.0}, session=sess)\n",
        "  print(\"The predicted character is :- \" + str(labels_dict[var[0]]))"
      ],
      "execution_count": 46,
      "outputs": [
        {
          "output_type": "stream",
          "text": [
            "INFO:tensorflow:Restoring parameters from model_char_recog.ckpt\n",
            "The predicted character is :- P\n"
          ],
          "name": "stdout"
        }
      ]
    },
    {
      "cell_type": "code",
      "metadata": {
        "id": "TuhQZhEyppq9",
        "colab_type": "code",
        "colab": {}
      },
      "source": [
        ""
      ],
      "execution_count": 0,
      "outputs": []
    },
    {
      "cell_type": "code",
      "metadata": {
        "id": "YZbwyr1KpqPB",
        "colab_type": "code",
        "colab": {}
      },
      "source": [
        "# example 2"
      ],
      "execution_count": 0,
      "outputs": []
    },
    {
      "cell_type": "code",
      "metadata": {
        "id": "tmCLqpbwpsvw",
        "colab_type": "code",
        "outputId": "1d1a0c0c-68eb-4a12-987d-d4095bd590a5",
        "colab": {
          "base_uri": "https://localhost:8080/",
          "height": 282
        }
      },
      "source": [
        "my_img=imageprepare('./B.jpg')#file path here\n",
        "my_img=np.array(my_img)\n",
        "plt.imshow(my_img.reshape(28,28),cmap='gist_gray') "
      ],
      "execution_count": 47,
      "outputs": [
        {
          "output_type": "execute_result",
          "data": {
            "text/plain": [
              "<matplotlib.image.AxesImage at 0x7f7c853c2278>"
            ]
          },
          "metadata": {
            "tags": []
          },
          "execution_count": 47
        },
        {
          "output_type": "display_data",
          "data": {
            "image/png": "[encoded data removed]",
            "text/plain": [
              "<Figure size 432x288 with 1 Axes>"
            ]
          },
          "metadata": {
            "tags": [],
            "needs_background": "light"
          }
        }
      ]
    },
    {
      "cell_type": "code",
      "metadata": {
        "id": "1hgc4Ojep1d-",
        "colab_type": "code",
        "outputId": "788b51d3-22b2-41c9-d2b3-43c9883d9818",
        "colab": {
          "base_uri": "https://localhost:8080/",
          "height": 51
        }
      },
      "source": [
        "with tf.Session() as sess:\n",
        "  sess.run(init)\n",
        "  saver.restore(sess, \"model_char_recog.ckpt\")\n",
        "     \n",
        "  prediction=tf.argmax(y_pred,1)\n",
        "  var = prediction.eval(feed_dict={x: [my_img],y_true:train_labels,hold_prob: 1.0}, session=sess)\n",
        "  print(\"The predicted character is :- \" + str(labels_dict[var[0]]))"
      ],
      "execution_count": 48,
      "outputs": [
        {
          "output_type": "stream",
          "text": [
            "INFO:tensorflow:Restoring parameters from model_char_recog.ckpt\n",
            "The predicted character is :- B\n"
          ],
          "name": "stdout"
        }
      ]
    },
    {
      "cell_type": "code",
      "metadata": {
        "id": "-nl7x6Rup6uY",
        "colab_type": "code",
        "colab": {}
      },
      "source": [
        "\n"
      ],
      "execution_count": 0,
      "outputs": []
    },
    {
      "cell_type": "code",
      "metadata": {
        "id": "WfYaQ7kDqH2W",
        "colab_type": "code",
        "colab": {}
      },
      "source": [
        "#example 3"
      ],
      "execution_count": 0,
      "outputs": []
    },
    {
      "cell_type": "code",
      "metadata": {
        "id": "L72qkuPEqJoJ",
        "colab_type": "code",
        "outputId": "b287a3ef-49d5-436c-91ba-6383509f286f",
        "colab": {
          "base_uri": "https://localhost:8080/",
          "height": 282
        }
      },
      "source": [
        "my_img=imageprepare('./3.jpg')#file path here\n",
        "my_img=np.array(my_img)\n",
        "plt.imshow(my_img.reshape(28,28),cmap='gist_gray') "
      ],
      "execution_count": 59,
      "outputs": [
        {
          "output_type": "execute_result",
          "data": {
            "text/plain": [
              "<matplotlib.image.AxesImage at 0x7f7c8508c278>"
            ]
          },
          "metadata": {
            "tags": []
          },
          "execution_count": 59
        },
        {
          "output_type": "display_data",
          "data": {
            "image/png": "[encoded data removed]",
            "text/plain": [
              "<Figure size 432x288 with 1 Axes>"
            ]
          },
          "metadata": {
            "tags": [],
            "needs_background": "light"
          }
        }
      ]
    },
    {
      "cell_type": "code",
      "metadata": {
        "id": "Yui-SZxSqKTS",
        "colab_type": "code",
        "outputId": "b28c3324-8b63-48d6-ca50-d84dd734b6f8",
        "colab": {
          "base_uri": "https://localhost:8080/",
          "height": 51
        }
      },
      "source": [
        "with tf.Session() as sess:\n",
        "  sess.run(init)\n",
        "  saver.restore(sess, \"model_char_recog.ckpt\")\n",
        "     \n",
        "  prediction=tf.argmax(y_pred,1)\n",
        "  var = prediction.eval(feed_dict={x: [my_img],y_true:train_labels,hold_prob: 1.0}, session=sess)\n",
        "  print(\"The predicted character is :- \" + str(labels_dict[var[0]]))"
      ],
      "execution_count": 61,
      "outputs": [
        {
          "output_type": "stream",
          "text": [
            "INFO:tensorflow:Restoring parameters from model_char_recog.ckpt\n",
            "The predicted character is :- J\n"
          ],
          "name": "stdout"
        }
      ]
    },
    {
      "cell_type": "code",
      "metadata": {
        "id": "9kXWlux7qO2e",
        "colab_type": "code",
        "colab": {}
      },
      "source": [
        ""
      ],
      "execution_count": 0,
      "outputs": []
    },
    {
      "cell_type": "code",
      "metadata": {
        "id": "wmE0zQDIQZ1y",
        "colab_type": "code",
        "colab": {}
      },
      "source": [
        "#example 4"
      ],
      "execution_count": 0,
      "outputs": []
    },
    {
      "cell_type": "code",
      "metadata": {
        "id": "9ZWyzQIMNq9f",
        "colab_type": "code",
        "colab": {
          "base_uri": "https://localhost:8080/",
          "height": 282
        },
        "outputId": "0ca329de-fb74-4929-86b6-03056c6a2068"
      },
      "source": [
        "my_img=imageprepare('./2.jpg')#file path here\n",
        "my_img=np.array(my_img)\n",
        "plt.imshow(my_img.reshape(28,28),cmap='gist_gray') "
      ],
      "execution_count": 66,
      "outputs": [
        {
          "output_type": "execute_result",
          "data": {
            "text/plain": [
              "<matplotlib.image.AxesImage at 0x7f7c84ef0160>"
            ]
          },
          "metadata": {
            "tags": []
          },
          "execution_count": 66
        },
        {
          "output_type": "display_data",
          "data": {
            "image/png": "[encoded data removed]",
            "text/plain": [
              "<Figure size 432x288 with 1 Axes>"
            ]
          },
          "metadata": {
            "tags": [],
            "needs_background": "light"
          }
        }
      ]
    },
    {
      "cell_type": "code",
      "metadata": {
        "id": "cymtzWnjQQ0m",
        "colab_type": "code",
        "colab": {
          "base_uri": "https://localhost:8080/",
          "height": 51
        },
        "outputId": "c41288eb-6151-4e81-89f7-12153da421d9"
      },
      "source": [
        "with tf.Session() as sess:\n",
        "  sess.run(init)\n",
        "  saver.restore(sess, \"model_char_recog.ckpt\")\n",
        "     \n",
        "  prediction=tf.argmax(y_pred,1)\n",
        "  var = prediction.eval(feed_dict={x: [my_img],y_true:train_labels,hold_prob: 1.0}, session=sess)\n",
        "  print(\"The predicted character is :- \" + str(labels_dict[var[0]]))"
      ],
      "execution_count": 67,
      "outputs": [
        {
          "output_type": "stream",
          "text": [
            "INFO:tensorflow:Restoring parameters from model_char_recog.ckpt\n",
            "The predicted character is :- 2\n"
          ],
          "name": "stdout"
        }
      ]
    },
    {
      "cell_type": "code",
      "metadata": {
        "id": "tYTFtmKNQdlY",
        "colab_type": "code",
        "colab": {}
      },
      "source": [
        ""
      ],
      "execution_count": 0,
      "outputs": []
    }
  ]
}